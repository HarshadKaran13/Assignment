{
 "cells": [
  {
   "cell_type": "markdown",
   "id": "8f03e037-48e8-4f8b-8aa4-8117b32b5864",
   "metadata": {},
   "source": [
    "Q1. Explain with an example each when to use a for loop and a while loop.\n",
    "\n",
    "Ans:-"
   ]
  },
  {
   "cell_type": "code",
   "execution_count": null,
   "id": "23fa7c0f-06a2-485c-b4aa-5de0acfb5336",
   "metadata": {},
   "outputs": [],
   "source": [
    "##Using while loop"
   ]
  },
  {
   "cell_type": "code",
   "execution_count": 1,
   "id": "34057537-e2b9-4f75-bcbf-a171e04dae74",
   "metadata": {},
   "outputs": [
    {
     "name": "stdin",
     "output_type": "stream",
     "text": [
      "enter the number of element you are looking for 5\n"
     ]
    },
    {
     "name": "stdout",
     "output_type": "stream",
     "text": [
      "0\n",
      "1\n",
      "1\n",
      "2\n",
      "3\n"
     ]
    }
   ],
   "source": [
    "number=int(input(\"enter the number of element you are looking for\"))\n",
    "a=0\n",
    "b=1\n",
    "counter=0\n",
    "while counter< number:\n",
    "    print(a)\n",
    "    c=a+b\n",
    "    a=b\n",
    "    b=c\n",
    "    counter=counter+1"
   ]
  },
  {
   "cell_type": "markdown",
   "id": "3cbc7556-4f91-4e6d-9d22-9611cdb9dc68",
   "metadata": {},
   "source": [
    "In this example, a while loop is used because the number of elements to generate in the Fibonacci sequence (number) is not known in advance. The loop continues until the condition counter < number becomes False. This approach is suitable when the number of iterations or elements depends on a condition that can change during execution.\n",
    "\n"
   ]
  },
  {
   "cell_type": "code",
   "execution_count": null,
   "id": "e578732e-47cc-436a-accc-68444c178c8f",
   "metadata": {},
   "outputs": [],
   "source": [
    "##using for loop"
   ]
  },
  {
   "cell_type": "code",
   "execution_count": 2,
   "id": "27617721-7f1e-46f1-9b29-8c17271db84c",
   "metadata": {},
   "outputs": [
    {
     "name": "stdout",
     "output_type": "stream",
     "text": [
      "0\n",
      "1\n",
      "1\n",
      "2\n",
      "3\n",
      "5\n",
      "8\n",
      "13\n",
      "21\n",
      "34\n"
     ]
    }
   ],
   "source": [
    "a=0\n",
    "b=1\n",
    "for i in range(10):\n",
    "    print(a)\n",
    "    c=a+b\n",
    "    a=b\n",
    "    b=c\n",
    "\n"
   ]
  },
  {
   "cell_type": "markdown",
   "id": "0612be49-91d2-4fcc-9619-e08b07aa940e",
   "metadata": {},
   "source": [
    "In this example, a for loop is used because we know in advance that we want to generate exactly 10 elements in the Fibonacci sequence. The loop iterates a fixed number of times ( 10 times) as specified by the range(10) statement. This approach is suitable when we have a predetermined number of iterations or elements."
   ]
  },
  {
   "cell_type": "code",
   "execution_count": null,
   "id": "6500ecae-4bdc-43e8-8fee-7a596a1de8c9",
   "metadata": {},
   "outputs": [],
   "source": []
  },
  {
   "cell_type": "code",
   "execution_count": null,
   "id": "2d8b34ab-d481-476a-9839-f3cffa51e647",
   "metadata": {},
   "outputs": [],
   "source": []
  },
  {
   "cell_type": "markdown",
   "id": "12f5fc1b-f2a1-45c5-a1c7-ef94f51b9bfe",
   "metadata": {},
   "source": [
    "Q.02 Write a python program to print the sum and product of the first 10 natural numbers using for\n",
    "and while loop."
   ]
  },
  {
   "cell_type": "code",
   "execution_count": null,
   "id": "5da8b36e-0614-4c81-8832-54aea6fab10f",
   "metadata": {},
   "outputs": [],
   "source": [
    "#sum using for loop"
   ]
  },
  {
   "cell_type": "code",
   "execution_count": 25,
   "id": "3cf39b62-5069-45b0-87be-202bb56c4ed4",
   "metadata": {},
   "outputs": [
    {
     "name": "stdout",
     "output_type": "stream",
     "text": [
      "The sum of first 10 natural number is= 55\n"
     ]
    }
   ],
   "source": [
    "sum=0\n",
    "for i in range(0,11):\n",
    "    sum=sum+i\n",
    "print(\"The sum of first 10 natural number is=\",sum)"
   ]
  },
  {
   "cell_type": "code",
   "execution_count": null,
   "id": "e4f0f57e-6fa0-43c7-b7c5-96ed1fdf931a",
   "metadata": {},
   "outputs": [],
   "source": [
    "##Sum using while loop"
   ]
  },
  {
   "cell_type": "code",
   "execution_count": 22,
   "id": "fdc090f1-3da3-49ac-bb9b-8eaf5173d03e",
   "metadata": {},
   "outputs": [
    {
     "name": "stdin",
     "output_type": "stream",
     "text": [
      "The sum of 10\n"
     ]
    },
    {
     "name": "stdout",
     "output_type": "stream",
     "text": [
      "the sum of first 10 natural numbers= 1\n",
      "the sum of first 10 natural numbers= 3\n",
      "the sum of first 10 natural numbers= 6\n",
      "the sum of first 10 natural numbers= 10\n",
      "the sum of first 10 natural numbers= 15\n",
      "the sum of first 10 natural numbers= 21\n",
      "the sum of first 10 natural numbers= 28\n",
      "the sum of first 10 natural numbers= 36\n",
      "the sum of first 10 natural numbers= 45\n",
      "the sum of first 10 natural numbers= 55\n"
     ]
    }
   ],
   "source": [
    "num=int(input(\"The sum of\"))\n",
    "sum=0\n",
    "i=1\n",
    "while i<=num:\n",
    "    sum=sum+i\n",
    "    i=i+1\n",
    "    print(\"the sum of first 10 natural numbers=\",sum)"
   ]
  },
  {
   "cell_type": "code",
   "execution_count": null,
   "id": "c526dd57-b6c3-4564-a76c-912d2359ddc7",
   "metadata": {},
   "outputs": [],
   "source": [
    "##Product Using for loop "
   ]
  },
  {
   "cell_type": "code",
   "execution_count": 24,
   "id": "9872db54-ccc1-452e-8411-aee2a8bc7c6d",
   "metadata": {},
   "outputs": [
    {
     "name": "stdout",
     "output_type": "stream",
     "text": [
      "Product of first 10 natural number is= 3628800\n"
     ]
    }
   ],
   "source": [
    "product=1\n",
    "for i in range(1,11):\n",
    "    product=product*i\n",
    "print(\"Product of first 10 natural number is=\",product)"
   ]
  },
  {
   "cell_type": "code",
   "execution_count": null,
   "id": "65c98ca8-2eb7-47c6-b6f1-5425b98c9b58",
   "metadata": {},
   "outputs": [],
   "source": [
    "##Product using while loop"
   ]
  },
  {
   "cell_type": "code",
   "execution_count": 1,
   "id": "f46f30d4-98df-4a76-ad29-0f44e9f2e1ee",
   "metadata": {},
   "outputs": [
    {
     "name": "stdout",
     "output_type": "stream",
     "text": [
      "The product of first 10 natural number is= 3628800\n"
     ]
    }
   ],
   "source": [
    "product=1\n",
    "i=1\n",
    "while i<=10:\n",
    "        product=product*i\n",
    "        i=i+1\n",
    "print(\"The product of first 10 natural number is=\",product)"
   ]
  },
  {
   "cell_type": "markdown",
   "id": "ab4b91a5-bb16-4496-a58b-57c74386c21c",
   "metadata": {},
   "source": [
    "Q3. Create a python program to compute the electricity bill for a household."
   ]
  },
  {
   "cell_type": "code",
   "execution_count": 7,
   "id": "8a437795-aa0f-41ab-910a-51e0f3eff030",
   "metadata": {},
   "outputs": [
    {
     "name": "stdin",
     "output_type": "stream",
     "text": [
      "Enter the units of electricity consumed in a month:  310\n"
     ]
    },
    {
     "name": "stdout",
     "output_type": "stream",
     "text": [
      "Electricity Bill: Rs. 2250.0\n"
     ]
    }
   ],
   "source": [
    "consumed_units = float(input(\"Enter the units of electricity consumed in a month: \"))\n",
    "bill = 0\n",
    "user_charges = 0\n",
    "if consumed_units <= 100:\n",
    "    user_charges =consumed_units * 4.5\n",
    "elif consumed_units <= 200:\n",
    "    user_charges = (100 * 4.5) + ((consumed_units - 100) * 6)\n",
    "elif consumed_units <= 300:\n",
    "    user_charges = (100 * 4.5) + (100 * 6) + ((consumed_units - 200) * 10)\n",
    "else:\n",
    "    user_charges = (100 * 4.5) + (100 * 6) + (100 * 10) + ((consumed_units - 300) * 20)\n",
    "    \n",
    "    bill = user_charges\n",
    "print(f\"Electricity Bill: Rs.\",bill)"
   ]
  },
  {
   "cell_type": "markdown",
   "id": "939a94e5-dd0a-4ac9-afe8-b18b2da7795e",
   "metadata": {},
   "source": [
    "Q4. Create a list of numbers from 1 to 100. Use for loop and while loop to calculate the cube of each\n",
    "number and if the cube of that number is divisible by 4 or 5 then append that number in a list and print\n",
    "that list.\n",
    "\n",
    "ANS:-"
   ]
  },
  {
   "cell_type": "markdown",
   "id": "1443fd60-ec10-4f06-94e2-01d483659dca",
   "metadata": {},
   "source": [
    "Let\n",
    "Cubes dividible by 4 & 5=l1"
   ]
  },
  {
   "cell_type": "code",
   "execution_count": 9,
   "id": "02734390-d990-4b09-b9b2-1c83680ba067",
   "metadata": {},
   "outputs": [
    {
     "name": "stdout",
     "output_type": "stream",
     "text": [
      "[2, 4, 5, 6, 8, 10, 12, 14, 15, 16, 18, 20, 22, 24, 25, 26, 28, 30, 32, 34, 35, 36, 38, 40, 42, 44, 45, 46, 48, 50, 52, 54, 55, 56, 58, 60, 62, 64, 65, 66, 68, 70, 72, 74, 75, 76, 78, 80, 82, 84, 85, 86, 88, 90, 92, 94, 95, 96, 98, 100]\n"
     ]
    }
   ],
   "source": [
    "##Using for loop\n",
    "l1=[]\n",
    "for num in range(1,101):\n",
    "    cube=num**3\n",
    "    if cube%4==0 or cube%5==0:\n",
    "        l1.append(num)\n",
    "print(l1)      "
   ]
  },
  {
   "cell_type": "code",
   "execution_count": 3,
   "id": "339a474b-f88a-4c9e-88ab-ce092d362e84",
   "metadata": {},
   "outputs": [
    {
     "name": "stdout",
     "output_type": "stream",
     "text": [
      "[2, 4, 5, 6, 8, 10, 12, 14, 15, 16, 18, 20, 22, 24, 25, 26, 28, 30, 32, 34, 35, 36, 38, 40, 42, 44, 45, 46, 48, 50, 52, 54, 55, 56, 58, 60, 62, 64, 65, 66, 68, 70, 72, 74, 75, 76, 78, 80, 82, 84, 85, 86, 88, 90, 92, 94, 95, 96, 98, 100]\n"
     ]
    }
   ],
   "source": [
    "# Using a while loop\n",
    "## Let Cubes Divisible by 4 or 5 =l2\n",
    "l2= []\n",
    "num = 1\n",
    "while num <= 100:\n",
    "    cube = num ** 3\n",
    "    if cube % 4 == 0 or cube % 5 == 0:\n",
    "        l2.append(num)\n",
    "    num =num+1\n",
    "print(l2)"
   ]
  },
  {
   "cell_type": "markdown",
   "id": "97f5f8a5-639d-4d58-b60b-5d3e0f27684c",
   "metadata": {},
   "source": [
    "\n",
    "\n",
    "\n",
    "\n",
    "\n",
    "\n",
    "\n",
    "\n",
    "Q5. Write a program to filter count vowels in the below-given string.\n",
    "string = \"I want to become a data scientist\""
   ]
  },
  {
   "cell_type": "code",
   "execution_count": 6,
   "id": "cec75675-a48d-4b94-b102-a18fdb0b48ba",
   "metadata": {},
   "outputs": [
    {
     "name": "stdout",
     "output_type": "stream",
     "text": [
      "Number of vowels in the string: 12\n"
     ]
    }
   ],
   "source": [
    "string = \"I want to become a data scientist\"\n",
    "def count_vowels(s):\n",
    "    s = s.lower()\n",
    "    vowel_count = 0\n",
    "    vowels = {'a', 'e', 'i', 'o', 'u'}\n",
    "    for char in s:\n",
    "        if char in vowels:\n",
    "            vowel_count=vowel_count+1\n",
    "    \n",
    "    return vowel_count\n",
    "result = count_vowels(string)\n",
    "\n",
    "print(f\"Number of vowels in the string:\",result)"
   ]
  }
 ],
 "metadata": {
  "kernelspec": {
   "display_name": "Python 3 (ipykernel)",
   "language": "python",
   "name": "python3"
  },
  "language_info": {
   "codemirror_mode": {
    "name": "ipython",
    "version": 3
   },
   "file_extension": ".py",
   "mimetype": "text/x-python",
   "name": "python",
   "nbconvert_exporter": "python",
   "pygments_lexer": "ipython3",
   "version": "3.10.8"
  }
 },
 "nbformat": 4,
 "nbformat_minor": 5
}
