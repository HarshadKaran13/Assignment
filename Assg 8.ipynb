{
 "cells": [
  {
   "cell_type": "markdown",
   "id": "cd26f39b-4868-427f-9a57-7b1e5654f0d2",
   "metadata": {},
   "source": [
    "Q1. What is Abstraction in OOps? Explain with an example."
   ]
  },
  {
   "cell_type": "markdown",
   "id": "6b060441-08d3-4de8-a78c-9a7bf8d3e6c0",
   "metadata": {},
   "source": [
    "ANS:-\n",
    "Abstraction in OO programming is the process of removing the details of an object's implementation from its definition. It enables us to define objects at a high level, hiding the complexities and details of their implementation.\n",
    "\n",
    "In abstraction, we provide only the essential features to the user and hide the unnecessary details. This simplifies the usage of complex systems.\n",
    "\n",
    "For example, consider a class named 'Car' with properties like 'brand', 'model', 'year', and 'price'. The implementation of this class can be complex, with various methods to set and get the properties, perform calculations, and more. However, the user should not be concerned with these complexities. Instead, the user should be able to create a car object and access its properties easily.\n",
    "\n",
    "To achieve abstraction, we can define the 'Car' class in Python as..."
   ]
  },
  {
   "cell_type": "code",
   "execution_count": 1,
   "id": "a6e76552-95bb-47b4-bf1f-28535228cd8e",
   "metadata": {},
   "outputs": [],
   "source": [
    "class Car:\n",
    "    def __init__(self, brand, model, year, price):\n",
    "        self.brand = brand\n",
    "        self.model = model\n",
    "        self.year = year\n",
    "        self.price = price\n",
    "\n",
    "    def get_brand(self):\n",
    "        return self.brand\n",
    "\n",
    "    def get_model(self):\n",
    "        return self.model\n",
    "\n",
    "    def get_year(self):\n",
    "        return self.year\n",
    "\n",
    "    def get_price(self):\n",
    "        return self.price"
   ]
  },
  {
   "cell_type": "markdown",
   "id": "98cd7efb-af5b-46db-9b84-37c4aec1aa5e",
   "metadata": {},
   "source": [
    "In this implementation, we have defined a 'Car' class with its properties and methods to set and get the properties. However, the complexities of the class implementation, such as performing calculations, are not exposed to the user.\n",
    "\n",
    "Now, a user can create a car object and access its properties."
   ]
  },
  {
   "cell_type": "code",
   "execution_count": 2,
   "id": "9439a518-b00a-43b9-bcf5-e80be1bc668b",
   "metadata": {},
   "outputs": [
    {
     "name": "stdout",
     "output_type": "stream",
     "text": [
      "Toyota\n",
      "Camry\n",
      "2020\n",
      "25000\n"
     ]
    }
   ],
   "source": [
    "car = Car('Toyota', 'Camry', 2020, 25000)\n",
    "print(car.get_brand())\n",
    "print(car.get_model())\n",
    "print(car.get_year())\n",
    "print(car.get_price())"
   ]
  },
  {
   "cell_type": "markdown",
   "id": "16f91ccf-7185-421b-8f59-9e6082de979f",
   "metadata": {},
   "source": [
    "This way, the user can easily create a car object and access its properties without worrying about the complexities of the class implementation."
   ]
  },
  {
   "cell_type": "markdown",
   "id": "b5a5c8c1-fa37-44ae-8ae8-d4761700c475",
   "metadata": {},
   "source": [
    "\n",
    "\n",
    "Q2. Differentiate between Abstraction and Encapsulation. Explain with an example.\n",
    "\n",
    "##Abstraction:\n",
    "\n",
    "Abstraction is the process of simplifying complex systems by modeling classes based on their essential attributes and behaviors while hiding unnecessary details. It focuses on what an object does rather than how it does it.\n",
    "Abstraction is more about the outward view of an object and its interactions with other objects.\n",
    "It often involves defining abstract classes or interfaces that declare methods without providing their specific implementations.\n",
    "Abstraction is used to create a clear and high-level structure for a system.\n",
    "Example (from the previous answer):\n",
    "\n",
    "The Shape class in the example is an abstraction of what it means to be a shape. It defines abstract methods area and perimeter, leaving the specific implementations to its concrete subclasses like Circle and Rectangle.\n",
    "\n",
    "\n",
    "\n",
    "##Encapsulation:\n",
    "\n",
    "Encapsulation is the concept of bundling data (attributes) and methods (functions) that operate on that data into a single unit, known as a class. It involves restricting direct access to some of an object's components and only exposing the necessary parts through well-defined interfaces (getters and setters).\n",
    "Encapsulation is more about the internal structure of an object and how its data and methods are organized.\n",
    "It helps ensure data integrity and allows for better control over the object's state."
   ]
  },
  {
   "cell_type": "code",
   "execution_count": 4,
   "id": "4c3c0bb8-7af3-4916-93f0-4a58c67519c4",
   "metadata": {},
   "outputs": [
    {
     "name": "stdout",
     "output_type": "stream",
     "text": [
      "sudh\n"
     ]
    }
   ],
   "source": [
    "class Student:\n",
    "    def __init__(self, name, age):\n",
    "        self.name = name  \n",
    "        self.age = age   \n",
    "\n",
    "    def get_name(self):\n",
    "        return self.name\n",
    "\n",
    "    def set_age(self, age):\n",
    "        if age > 0:\n",
    "            self.age = age\n",
    "\n",
    "student1 = Student(\"sudh\", 20)\n",
    "student_name = student1.get_name()\n",
    "print(student_name)\n",
    "student1.set_age(21)"
   ]
  },
  {
   "cell_type": "markdown",
   "id": "7027c8ba-7d20-4787-a09a-8a84776b7508",
   "metadata": {},
   "source": [
    "In this example, the Student class encapsulates the data (name and age) and provides methods (get_name and set_age) to access and modify this data. This ensures that the data is accessed and modified in a controlled manner, preserving data integrity."
   ]
  },
  {
   "cell_type": "markdown",
   "id": "e5acdb94-20b5-4ab9-bef3-73f7f8abfa10",
   "metadata": {},
   "source": [
    "\n",
    "\n",
    "Q3. What is abc module in python? Why is it used?\n",
    "\n",
    "ANS:-\n",
    "In Python, the abc module stands for \"Abstract Base Classes.\" It provides a mechanism for defining abstract base classes and abstract methods. Abstract base classes are classes that cannot be instantiated directly but are meant to be subclassed by other classes. They are often used to define a common interface or set of methods that subclasses must implement."
   ]
  },
  {
   "cell_type": "code",
   "execution_count": 5,
   "id": "dc694722-5ca3-4f6a-829f-1f9c605285be",
   "metadata": {},
   "outputs": [],
   "source": [
    "import abc\n",
    "\n",
    "class AbstractClassExample(abc.ABC):\n",
    "    @abc.abstractmethod\n",
    "    def do_something(self):\n",
    "        pass"
   ]
  },
  {
   "cell_type": "markdown",
   "id": "02c6a9a8-0360-4c20-a394-7a3bbbfa78f9",
   "metadata": {},
   "source": [
    "In this example, the AbstractClassExample class is declared as an abstract base class. The do_something method is declared as an abstract method, which means that any class that inherits from AbstractClassExample must provide its own implementation for the do_something method."
   ]
  },
  {
   "cell_type": "markdown",
   "id": "80eabd59-822f-44b9-acc1-3fbc3130d10a",
   "metadata": {},
   "source": [
    "Q4. How can we achieve data abstraction?\n",
    "\n",
    "\n",
    "We can achieve data abstraction through Abstract classes and interfaces. Through abstract classes, you can achieve partial or complete abstraction as abstract classes contain methods that have an implementation which can result in partial abstraction"
   ]
  }
 ],
 "metadata": {
  "kernelspec": {
   "display_name": "Python 3 (ipykernel)",
   "language": "python",
   "name": "python3"
  },
  "language_info": {
   "codemirror_mode": {
    "name": "ipython",
    "version": 3
   },
   "file_extension": ".py",
   "mimetype": "text/x-python",
   "name": "python",
   "nbconvert_exporter": "python",
   "pygments_lexer": "ipython3",
   "version": "3.10.8"
  }
 },
 "nbformat": 4,
 "nbformat_minor": 5
}
