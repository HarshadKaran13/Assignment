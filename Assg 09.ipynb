{
 "cells": [
  {
   "cell_type": "markdown",
   "id": "7ae15f9f-ca17-46c3-a2cb-a2b49b996b95",
   "metadata": {},
   "source": [
    "Q1, Create a vehicle class with an init method having instance variables as name_of_vehicle, max_speed\n",
    "and average_of_vehicle."
   ]
  },
  {
   "cell_type": "code",
   "execution_count": 1,
   "id": "0dc97cfd-1b86-4bdf-b254-efc5fea7f035",
   "metadata": {},
   "outputs": [],
   "source": [
    "class Vehicle:\n",
    "    def __init__(self, name_of_vehicle, max_speed, average_of_vehicle):\n",
    "        self.name_of_vehicle = name_of_vehicle\n",
    "        self.max_speed = max_speed\n",
    "        self.average_of_vehicle = average_of_vehicle\n",
    "    def detail(self):\n",
    "        return self.name_of_vehicle,self.max_speed,self._average_of_vehicle"
   ]
  },
  {
   "cell_type": "code",
   "execution_count": null,
   "id": "c2b300fb-431b-45c0-a233-5548a38969f3",
   "metadata": {},
   "outputs": [],
   "source": []
  },
  {
   "cell_type": "markdown",
   "id": "6f9df463-6d91-4030-abb9-641fdc5a3a74",
   "metadata": {},
   "source": [
    "Q2. Create a child class car from the vehicle class created in Que 1, which will inherit the vehicle class.\n",
    "Create a method named seating_capacity which takes capacity as an argument and returns the name of\n",
    "the vehicle and its seating capacity."
   ]
  },
  {
   "cell_type": "code",
   "execution_count": 6,
   "id": "c701d416-ecfd-4c9f-abbe-410a2866a337",
   "metadata": {},
   "outputs": [],
   "source": [
    "class Vehicle:\n",
    "    def __init__(self, name_of_vehicle, max_speed, average_of_vehicle):\n",
    "        self.name_of_vehicle = name_of_vehicle\n",
    "        self.max_speed = max_speed\n",
    "        self.average_of_vehicle = average_of_vehicle\n",
    "    def detail(self):\n",
    "        return self.name_of_vehicle,self.max_speed,self._average_of_vehicle"
   ]
  },
  {
   "cell_type": "code",
   "execution_count": 16,
   "id": "68d7c6b9-ffeb-4b03-86d2-1eaf190b3aa0",
   "metadata": {},
   "outputs": [],
   "source": [
    "class car(Vehicle):\n",
    "    def __init__(self, name_of_vehicle, max_speed, average_of_vehicle,seating_capacity):\n",
    "        self.name_of_vehicle = name_of_vehicle\n",
    "        self.max_speed = max_speed\n",
    "        self.average_of_vehicle = average_of_vehicle\n",
    "        self.seating_capacity=seating_capacity\n",
    "    def display_seating_capacity(self):\n",
    "        print(self.name_of_vehicle,\"has a seating capacity of\" ,self.seating_capacity)"
   ]
  },
  {
   "cell_type": "code",
   "execution_count": 17,
   "id": "74d03960-e596-4ac0-8d44-5fc35b8be1c7",
   "metadata": {},
   "outputs": [],
   "source": [
    "my_car = car(\"Tesla Model S\", 150, 100, 5)"
   ]
  },
  {
   "cell_type": "code",
   "execution_count": 18,
   "id": "cca91c1c-707d-44eb-84d9-83573579535e",
   "metadata": {},
   "outputs": [
    {
     "name": "stdout",
     "output_type": "stream",
     "text": [
      "Tesla Model S has a seating capacity of 5\n",
      "None\n"
     ]
    }
   ],
   "source": [
    "print(my_car.display_seating_capacity())"
   ]
  },
  {
   "cell_type": "markdown",
   "id": "79f360a9-98b3-4652-b330-349cbc364b73",
   "metadata": {},
   "source": [
    "Q3. What is multiple inheritance? Write a python code to demonstrate multiple inheritance."
   ]
  },
  {
   "cell_type": "markdown",
   "id": "3132d6ae-5647-4e76-bc04-10e8dd61cae5",
   "metadata": {},
   "source": [
    "ANS:-\n",
    "   IN multiple inheritance ,each child class can be derived from two or more parent class.A class can inherit from multiple classes by listing them in the class definition"
   ]
  },
  {
   "cell_type": "code",
   "execution_count": 20,
   "id": "9ab9e88b-7db1-4eed-b69c-8969039bd5ad",
   "metadata": {},
   "outputs": [],
   "source": [
    "class class1:\n",
    "    def test_class1(self) : \n",
    "        print(\"this is my class 1\" )"
   ]
  },
  {
   "cell_type": "code",
   "execution_count": 21,
   "id": "324566f7-0464-40ad-a023-0ac00d200bb1",
   "metadata": {},
   "outputs": [],
   "source": [
    "class class2 :\n",
    "    def test_class2(self) : \n",
    "        print(\"this is my class 2\")"
   ]
  },
  {
   "cell_type": "code",
   "execution_count": 22,
   "id": "4aa5b1d8-b21e-410e-989b-3a415febce7d",
   "metadata": {},
   "outputs": [],
   "source": [
    "class class3 (class1 , class2) : \n",
    "    pass"
   ]
  },
  {
   "cell_type": "code",
   "execution_count": 23,
   "id": "d6d736e6-2e98-42a3-83ee-19f35ea2438e",
   "metadata": {},
   "outputs": [],
   "source": [
    "obj_class3 = class3()"
   ]
  },
  {
   "cell_type": "code",
   "execution_count": 24,
   "id": "ad3b6f45-0d9b-45b8-8122-2cb5217992d1",
   "metadata": {},
   "outputs": [
    {
     "name": "stdout",
     "output_type": "stream",
     "text": [
      "this is my class 1\n"
     ]
    }
   ],
   "source": [
    "obj_class3.test_class1()"
   ]
  },
  {
   "cell_type": "code",
   "execution_count": 25,
   "id": "63abda52-d98b-4fa8-b3f2-d2dcc100f34d",
   "metadata": {},
   "outputs": [
    {
     "name": "stdout",
     "output_type": "stream",
     "text": [
      "this is my class 2\n"
     ]
    }
   ],
   "source": [
    "obj_class3.test_class2()"
   ]
  },
  {
   "cell_type": "markdown",
   "id": "21680fa5-155f-4ec0-91ea-a70ed85992e5",
   "metadata": {},
   "source": [
    "from above example we can conclude that a child class can derived from two or more parents as in example class1 & class2 are two parent class."
   ]
  },
  {
   "cell_type": "markdown",
   "id": "856f1e40-3470-47f5-ad33-0ba0d4637121",
   "metadata": {},
   "source": [
    "Q4. What are getter and setter in python? Create a class and create a getter and a setter method in this\n",
    "class."
   ]
  },
  {
   "cell_type": "markdown",
   "id": "f81c74d7-199a-4bd8-a45b-8b09b2e783a0",
   "metadata": {},
   "source": [
    "ANS:-  Getter and setter methods are used to define custom behaviors for accessing and modifying attributes.\n",
    "\n",
    "Getter methods are defined to retrieve the value of an attribute, and setter methods are defined to change the value of an attribute."
   ]
  },
  {
   "cell_type": "code",
   "execution_count": 26,
   "id": "71797c3a-de82-4c4c-8193-62ea104d95f7",
   "metadata": {},
   "outputs": [],
   "source": [
    "class pwskills :\n",
    "    \n",
    "    def __init__(self , course_price , coruse_name):\n",
    "        \n",
    "        self.__course_price = course_price\n",
    "        self.course_name = coruse_name\n",
    "        \n",
    "    @property\n",
    "    def course_price_access(self) : \n",
    "        return self.__course_price\n",
    "    \n",
    "    @course_price_access.setter\n",
    "    def course_price_set(self , price ):\n",
    "        if price <= 3500:\n",
    "            pass\n",
    "        else :\n",
    "            self.__course_price = price\n",
    "            "
   ]
  },
  {
   "cell_type": "code",
   "execution_count": 27,
   "id": "159e4a63-9464-421d-a5f1-590ada615e86",
   "metadata": {},
   "outputs": [],
   "source": [
    "pw = pwskills(3500 , \"data science masters\")"
   ]
  },
  {
   "cell_type": "code",
   "execution_count": 28,
   "id": "092b3a32-5420-4f88-9ab6-6d4c3e824147",
   "metadata": {},
   "outputs": [
    {
     "data": {
      "text/plain": [
       "3500"
      ]
     },
     "execution_count": 28,
     "metadata": {},
     "output_type": "execute_result"
    }
   ],
   "source": [
    "pw.course_price_access"
   ]
  },
  {
   "cell_type": "code",
   "execution_count": 29,
   "id": "ddf0a19f-0acd-4a8f-bd73-208ddf88d24b",
   "metadata": {},
   "outputs": [],
   "source": [
    "pw.course_price_set = 4500"
   ]
  },
  {
   "cell_type": "code",
   "execution_count": 30,
   "id": "edc9a151-8b79-4615-955c-134a4efebf27",
   "metadata": {},
   "outputs": [
    {
     "data": {
      "text/plain": [
       "4500"
      ]
     },
     "execution_count": 30,
     "metadata": {},
     "output_type": "execute_result"
    }
   ],
   "source": [
    "pw.course_price_access"
   ]
  },
  {
   "cell_type": "code",
   "execution_count": 33,
   "id": "4668690e-a75c-4a88-933a-d03e8009d6b4",
   "metadata": {},
   "outputs": [
    {
     "data": {
      "text/plain": [
       "'data science masters'"
      ]
     },
     "execution_count": 33,
     "metadata": {},
     "output_type": "execute_result"
    }
   ],
   "source": [
    "pw.course_name"
   ]
  },
  {
   "cell_type": "markdown",
   "id": "fe1afa95-51ef-4e38-a0c2-bb0547370f41",
   "metadata": {},
   "source": [
    "Q5.What is method overriding in python? Write a python code to demonstrate method overriding."
   ]
  },
  {
   "cell_type": "markdown",
   "id": "ff82fbcb-5594-47d6-9be9-25796c86991f",
   "metadata": {},
   "source": [
    "Ans:-  Method overriding in Python is a way for a subclass to provide a different implementation of a method that is already provided by its parent class."
   ]
  },
  {
   "cell_type": "code",
   "execution_count": 34,
   "id": "35ee4646-bdfc-458b-931f-b44e295e4719",
   "metadata": {},
   "outputs": [
    {
     "name": "stdout",
     "output_type": "stream",
     "text": [
      "This is the method from the child class.\n"
     ]
    }
   ],
   "source": [
    "class Parent:\n",
    "    def method(self):\n",
    "        print(\"This is the method from the parent class.\")\n",
    "\n",
    "class Child(Parent):\n",
    "    def method(self):\n",
    "        print(\"This is the method from the child class.\")\n",
    "\n",
    "# Creating an instance of the Child class\n",
    "child = Child()\n",
    "\n",
    "# Calling the method() method on the child object\n",
    "child.method()"
   ]
  },
  {
   "cell_type": "markdown",
   "id": "0da93c4d-bc76-4c73-b68f-76ca9aa019d2",
   "metadata": {},
   "source": [
    "In this example, the Child class inherits from the Parent class and overrides the 'method()' method. When we create an instance of the Child class and call the method() method on it, the output will be \"This is the method from the child class.\", indicating that the overridden method in the Child class is being called, not the original method in the Parent class."
   ]
  }
 ],
 "metadata": {
  "kernelspec": {
   "display_name": "Python 3 (ipykernel)",
   "language": "python",
   "name": "python3"
  },
  "language_info": {
   "codemirror_mode": {
    "name": "ipython",
    "version": 3
   },
   "file_extension": ".py",
   "mimetype": "text/x-python",
   "name": "python",
   "nbconvert_exporter": "python",
   "pygments_lexer": "ipython3",
   "version": "3.10.8"
  }
 },
 "nbformat": 4,
 "nbformat_minor": 5
}
