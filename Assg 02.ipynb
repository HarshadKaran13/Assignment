{
 "cells": [
  {
   "cell_type": "markdown",
   "id": "30842e25-80d7-499e-9f8b-6b981803054c",
   "metadata": {},
   "source": [
    "Q1. Which keyword is used to create a function? Create a function to return a list of odd numbers in the\n",
    "range of 1 to 25.\n",
    "\n",
    "ANS:- 'def' keyword is used to create a function."
   ]
  },
  {
   "cell_type": "code",
   "execution_count": 26,
   "id": "394d01c3-d754-4d4a-bd75-8f393dba270e",
   "metadata": {},
   "outputs": [
    {
     "data": {
      "text/plain": [
       "[1, 3, 5, 7, 9, 11, 13, 15, 17, 19, 21, 23, 25]"
      ]
     },
     "execution_count": 26,
     "metadata": {},
     "output_type": "execute_result"
    }
   ],
   "source": [
    "def odd_number():\n",
    "    O=[]\n",
    "    for i in range(1,26):\n",
    "        if i%2!=0:\n",
    "            O.append(i)\n",
    "            return O\n",
    "result"
   ]
  },
  {
   "cell_type": "markdown",
   "id": "f0866ba3-360f-4915-b861-97c304b73dc1",
   "metadata": {},
   "source": [
    "Q2. Why *args and **kwargs is used in some functions? Create a function each for *args and **kwargs\n",
    "to demonstrate their use.\n",
    "\n",
    "ANS:-1) *args allow us to pass a  non-keyword arguments to a fucnrion.*args collect the arguments into a tuple within the fucntion\n",
    "\n",
    "\n",
    "Example:-"
   ]
  },
  {
   "cell_type": "code",
   "execution_count": 28,
   "id": "e2d05606-a964-43ba-b026-ca321a893cea",
   "metadata": {},
   "outputs": [
    {
     "data": {
      "text/plain": [
       "(1, 2, 3, 4)"
      ]
     },
     "execution_count": 28,
     "metadata": {},
     "output_type": "execute_result"
    }
   ],
   "source": [
    "def test1(*args):\n",
    "    return args\n",
    "test1(1,2,3,4)"
   ]
  },
  {
   "cell_type": "markdown",
   "id": "d465d592-c20e-40ff-80c2-6e216f572bef",
   "metadata": {},
   "source": [
    "2)**kwargs allow us to pass a keyword argument to a function.**kwargs collects the keyword arguments into dictionary within the functiuon,i.e keys are the argument names and the value are argumentsd values.\n",
    "\n",
    "\n",
    "\n",
    "Example:-"
   ]
  },
  {
   "cell_type": "code",
   "execution_count": 29,
   "id": "e4b119e0-a7b1-4907-a013-449c0452c65a",
   "metadata": {},
   "outputs": [
    {
     "data": {
      "text/plain": [
       "{'a': 2, 'b': 4, 'c': 5, 'd': 9}"
      ]
     },
     "execution_count": 29,
     "metadata": {},
     "output_type": "execute_result"
    }
   ],
   "source": [
    "def  test2(**kwargs):\n",
    "    return kwargs \n",
    "test2(a=2,b=4,c=5,d=9)"
   ]
  },
  {
   "cell_type": "markdown",
   "id": "9b8970bb-e064-4059-b8b0-e408310e3b05",
   "metadata": {},
   "source": [
    "Q3. What is an iterator in python? Name the method used to initialise the iterator object and the method\n",
    "used for iteration. Use these methods to print the first five elements of the given list [2, 4, 6, 8, 10, 12, 14,\n",
    "16, 18, 20].\n",
    "\n",
    "\n",
    "ANS:-\n",
    "I) Iterator is an object that represents a stream of data, and it allows you to iterate elements in a collection, such as a list, tuple, or dictionary, one at a time.\n",
    "\n",
    "II) i) iter():- used to initialize the iterator object.\n",
    "    ii) next():- used for iteration.\n"
   ]
  },
  {
   "cell_type": "code",
   "execution_count": 11,
   "id": "a44e9d56-6c18-4784-ba03-b44b9db8ff4c",
   "metadata": {},
   "outputs": [
    {
     "name": "stdout",
     "output_type": "stream",
     "text": [
      "2\n",
      "4\n",
      "6\n",
      "8\n",
      "10\n"
     ]
    }
   ],
   "source": [
    "l=[2,4,6,8,10,12,14,16,18,20]\n",
    "l1= iter(l)\n",
    "for i in range(5):\n",
    "    try:\n",
    "        element = next(l1) \n",
    "        print(element)\n",
    "    except StopIteration:\n",
    "        break"
   ]
  },
  {
   "cell_type": "markdown",
   "id": "272eb0a4-d756-479d-9184-2675f1b2bcba",
   "metadata": {},
   "source": [
    "Q4. What is a generator function in python? Why yield keyword is used? Give an example of a generator\n",
    "function.\n",
    "\n",
    "\n",
    "ANS:-\n",
    "I) A generator function  is a special type of function that allows us to create an iterator.\n",
    "II) The yield statement returns a generator object to the one who calls the function which contains yield, instead of simply returning a value.\n"
   ]
  },
  {
   "cell_type": "code",
   "execution_count": 2,
   "id": "ba3a662b-5fa8-4bba-9d74-2faa5fd1d629",
   "metadata": {},
   "outputs": [
    {
     "data": {
      "text/plain": [
       "<generator object test_fib at 0x7f9b4c20f290>"
      ]
     },
     "execution_count": 2,
     "metadata": {},
     "output_type": "execute_result"
    }
   ],
   "source": [
    "def test_fib(n):\n",
    "    a=0\n",
    "    b=1\n",
    "    for i in range(n):\n",
    "        yield a\n",
    "        a,b=b, a+b\n",
    "        \n",
    "test_fib(10)"
   ]
  },
  {
   "cell_type": "code",
   "execution_count": 3,
   "id": "3bb752a1-02c9-4310-a4cb-41136bbba2a4",
   "metadata": {},
   "outputs": [
    {
     "name": "stdout",
     "output_type": "stream",
     "text": [
      "0\n",
      "1\n",
      "1\n",
      "2\n",
      "3\n",
      "5\n",
      "8\n",
      "13\n",
      "21\n",
      "34\n"
     ]
    }
   ],
   "source": [
    "for i in test_fib(10):\n",
    "    print(i)"
   ]
  },
  {
   "cell_type": "markdown",
   "id": "d9ac5948-208b-4100-ad0b-d04e2a6c23a8",
   "metadata": {},
   "source": [
    "Q5. Create a generator function for prime numbers less than 1000. Use the next() method to print the\n",
    "first 20 prime numbers.\n"
   ]
  },
  {
   "cell_type": "code",
   "execution_count": 4,
   "id": "6659aa94-a8e0-4e9e-9f4c-37b75d74968b",
   "metadata": {},
   "outputs": [
    {
     "name": "stdout",
     "output_type": "stream",
     "text": [
      "2\n",
      "3\n",
      "5\n",
      "7\n",
      "11\n",
      "13\n",
      "17\n",
      "19\n",
      "23\n",
      "29\n",
      "31\n",
      "37\n",
      "41\n",
      "43\n",
      "47\n",
      "53\n",
      "59\n",
      "61\n",
      "67\n",
      "71\n"
     ]
    }
   ],
   "source": [
    "def is_prime(num):\n",
    "    if num < 2:\n",
    "        return False\n",
    "    for i in range(2, int(num ** 0.5) + 1):\n",
    "        if num % i == 0:\n",
    "            return False\n",
    "    return True\n",
    "\n",
    "def prime_generator(limit):\n",
    "    num = 2\n",
    "    count = 0\n",
    "    while count < limit:\n",
    "        if is_prime(num):\n",
    "            yield num\n",
    "            count += 1\n",
    "        num += 1\n",
    "\n",
    "prime_gen = prime_generator(20)\n",
    "\n",
    "for i in range(20):\n",
    "    prime = next(prime_gen)\n",
    "    print(prime)"
   ]
  },
  {
   "cell_type": "markdown",
   "id": "9f5564c9-e4b2-490f-92bc-09e858a51b0d",
   "metadata": {},
   "source": [
    "Q.6 Write a python program to print the first 10 Fibonacci numbers using a while loop."
   ]
  },
  {
   "cell_type": "code",
   "execution_count": 5,
   "id": "c4200a2b-adbc-4b76-8bf1-91e5a89c9907",
   "metadata": {},
   "outputs": [
    {
     "data": {
      "text/plain": [
       "<generator object test_fib at 0x7f9b2ef55770>"
      ]
     },
     "execution_count": 5,
     "metadata": {},
     "output_type": "execute_result"
    }
   ],
   "source": [
    "def test_fib1():\n",
    "    a=0\n",
    "    b=1\n",
    "    while True:\n",
    "        yield a\n",
    "        a,b=b, a+b\n",
    "        \n",
    "test_fib(10)"
   ]
  },
  {
   "cell_type": "code",
   "execution_count": 6,
   "id": "8ebafab1-e095-4dad-b61b-a6f1f452235f",
   "metadata": {},
   "outputs": [
    {
     "name": "stdout",
     "output_type": "stream",
     "text": [
      "0\n",
      "1\n",
      "1\n",
      "2\n",
      "3\n",
      "5\n",
      "8\n",
      "13\n",
      "21\n",
      "34\n"
     ]
    }
   ],
   "source": [
    "fib=test_fib1()\n",
    "for i in range(10):\n",
    "    print(next(fib))"
   ]
  },
  {
   "cell_type": "markdown",
   "id": "c67d3407-34a4-4457-9db2-67b11b184b04",
   "metadata": {},
   "source": [
    "Q7. Write a List Comprehension to iterate through the given string: ‘pwskills’.\n",
    "Expected output: ['p', 'w', 's', 'k', 'i', 'l', 'l', 's']"
   ]
  },
  {
   "cell_type": "code",
   "execution_count": 8,
   "id": "917b79ea-b611-4442-bf9b-c63958c327dd",
   "metadata": {},
   "outputs": [
    {
     "data": {
      "text/plain": [
       "['p', 'w', 's', 'k', 'i', 'l', 'l', 's']"
      ]
     },
     "execution_count": 8,
     "metadata": {},
     "output_type": "execute_result"
    }
   ],
   "source": [
    "l='pwskills'\n",
    "list(i for i in l)"
   ]
  },
  {
   "cell_type": "markdown",
   "id": "cb962a18-32f4-47dd-8751-b676b2e53f3e",
   "metadata": {},
   "source": [
    "Q9. Write a code to print odd numbers from 1 to 100 using list comprehension."
   ]
  },
  {
   "cell_type": "code",
   "execution_count": 9,
   "id": "7907c8a3-f757-4f30-9361-209d2dd3cd93",
   "metadata": {},
   "outputs": [
    {
     "name": "stdout",
     "output_type": "stream",
     "text": [
      "[1, 3, 5, 7, 9, 11, 13, 15, 17, 19, 21, 23, 25, 27, 29, 31, 33, 35, 37, 39, 41, 43, 45, 47, 49, 51, 53, 55, 57, 59, 61, 63, 65, 67, 69, 71, 73, 75, 77, 79, 81, 83, 85, 87, 89, 91, 93, 95, 97, 99]\n"
     ]
    }
   ],
   "source": [
    "odd_num=[i for i in range(1,101) if i%2!=0]\n",
    "print(odd_num)"
   ]
  }
 ],
 "metadata": {
  "kernelspec": {
   "display_name": "Python 3 (ipykernel)",
   "language": "python",
   "name": "python3"
  },
  "language_info": {
   "codemirror_mode": {
    "name": "ipython",
    "version": 3
   },
   "file_extension": ".py",
   "mimetype": "text/x-python",
   "name": "python",
   "nbconvert_exporter": "python",
   "pygments_lexer": "ipython3",
   "version": "3.10.8"
  }
 },
 "nbformat": 4,
 "nbformat_minor": 5
}
