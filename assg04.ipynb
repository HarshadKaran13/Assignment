{
 "cells": [
  {
   "cell_type": "markdown",
   "id": "f4bc2e9e-c1df-4ccb-953a-0ca74eb58a57",
   "metadata": {},
   "source": [
    "Q1. Explain Class and Object with respect to Object-Oriented Programming. Give a suitable example.\n",
    "\n",
    "ANS:-\n",
    "\n",
    "  I) A class is a blueprint or a template for creating objects. It defines the structure and behavior that objects of the class will have.\n",
    " \n",
    " II)An object is an instance of a class. It is a concrete, self-contained entity that can be created based on the blueprint provided by a class.\n",
    "  \n",
    "  III)Classes are user-defined data types that act as the blueprint for individual objects, attributes and methods. Objects are instances of a class created with specifically defined data. "
   ]
  },
  {
   "cell_type": "code",
   "execution_count": 1,
   "id": "ac0570b0-00d0-447a-a160-142374b600d2",
   "metadata": {},
   "outputs": [],
   "source": [
    "# e.g\n",
    "class pwskills1:\n",
    "    def __init__(self,phone_number,email_id,student_id):\n",
    "        self.phone_number=phone_number\n",
    "        self.email_id=email_id\n",
    "        self.student_id=student_id\n",
    "    def return_student_detail(self):\n",
    "        return self.student_id,self.phone_number,self.email_id"
   ]
  },
  {
   "cell_type": "code",
   "execution_count": 3,
   "id": "c29779f7-477b-4b94-8635-747fd7b107b4",
   "metadata": {},
   "outputs": [],
   "source": [
    "rohan=pwskills1(1234567890,\"rohan@gmail.com\",1307)"
   ]
  },
  {
   "cell_type": "code",
   "execution_count": 5,
   "id": "0d9ac833-60f2-4334-bae8-4ccdd042151d",
   "metadata": {},
   "outputs": [
    {
     "data": {
      "text/plain": [
       "(1307, 1234567890, 'rohan@gmail.com')"
      ]
     },
     "execution_count": 5,
     "metadata": {},
     "output_type": "execute_result"
    }
   ],
   "source": [
    "rohan.return_student_detail()"
   ]
  },
  {
   "cell_type": "markdown",
   "id": "53b86b0a-a7be-4818-ab51-50a301420d73",
   "metadata": {},
   "source": [
    "In class called pwskills1. This class appears to be intended for storing and returning information related to a student, such as their phone number, email ID, and student ID.\n",
    "  In above example the object student1 is created by calling the class constructor with specific data, and it encapsulates the student's information.we use the return_student_detail method to retrieve and print the student's details."
   ]
  },
  {
   "cell_type": "code",
   "execution_count": null,
   "id": "80171bba-585a-4e5c-ae37-9644ebb68035",
   "metadata": {},
   "outputs": [],
   "source": [
    "\n",
    "\n",
    "\n",
    "\n",
    "\n",
    "\n",
    "\n"
   ]
  },
  {
   "cell_type": "markdown",
   "id": "da429630-a2dd-4547-9942-119db578183e",
   "metadata": {},
   "source": [
    "Q2. Name the four pillars of OOPs.\n",
    " ANS:-\n",
    " i)Encapsulation ii)Abstraction iii)Inheritance & iv) Polymorphism"
   ]
  },
  {
   "cell_type": "markdown",
   "id": "1c05ffca-3bf3-46ee-9b85-d2c8eaef3142",
   "metadata": {},
   "source": [
    "\n",
    "\n",
    "Q3. Explain why the __init__() function is used. Give a suitable example.\n",
    "\n",
    "ANS:\n",
    "The __init__() function, also known as the constructor, is  used in classes to initialize object attributes when an object is created from that class. It is called automatically when an object is instantiated and is used to set up the initial state of the object by assigning values to its attributes."
   ]
  },
  {
   "cell_type": "code",
   "execution_count": 9,
   "id": "edcfad32-aa5b-4a7c-b2e1-79538572ca31",
   "metadata": {},
   "outputs": [],
   "source": [
    "# e.g\n",
    "class pwskills1:\n",
    "    def __init__(self,phone_number,email_id,student_id):\n",
    "        self.phone_number=phone_number\n",
    "        self.email_id=email_id\n",
    "        self.student_id=student_id\n",
    "    def return_student_detail(self):\n",
    "        return self.student_id,self.phone_number,self.email_id"
   ]
  },
  {
   "cell_type": "code",
   "execution_count": 10,
   "id": "c60c73e9-419a-46bb-b421-dc08b3bcc717",
   "metadata": {},
   "outputs": [],
   "source": [
    "rohan=pwskills1(1234567890,\"rohan@gmail.com\",1307)"
   ]
  },
  {
   "cell_type": "code",
   "execution_count": 11,
   "id": "08c49830-497c-41a8-8d23-561242a08d65",
   "metadata": {},
   "outputs": [
    {
     "data": {
      "text/plain": [
       "(1307, 1234567890, 'rohan@gmail.com')"
      ]
     },
     "execution_count": 11,
     "metadata": {},
     "output_type": "execute_result"
    }
   ],
   "source": [
    "rohan.return_student_detail()"
   ]
  },
  {
   "cell_type": "markdown",
   "id": "0b0d27a1-02a1-4704-9c13-4c6574bf0836",
   "metadata": {},
   "source": [
    "This is the class constructor or initializer method. It is automatically called when an object of the class is created.\n",
    "It takes three parameters: phone_number, email_id, and student_id, which are used to initialize instance variables with the same names.\n"
   ]
  },
  {
   "cell_type": "markdown",
   "id": "aae887c8-849b-4997-8f6f-1d35d561a0f2",
   "metadata": {},
   "source": [
    "\n",
    "Q4. Why self is used in OOPs?\n",
    "ANS:-\n",
    "The self parameter represents the instance of the class and is used to access and store phone_number,email_id, student_id like instance variables."
   ]
  },
  {
   "cell_type": "markdown",
   "id": "bb417432-e3cc-4aa5-8293-8571d3dd4ec5",
   "metadata": {},
   "source": [
    "\n",
    "Q5. What is inheritance? Give an example for each type of inheritance.\n",
    "ANS:\n",
    "Inheritance is a mechanism in which one class acquires the property of another class"
   ]
  }
 ],
 "metadata": {
  "kernelspec": {
   "display_name": "Python 3 (ipykernel)",
   "language": "python",
   "name": "python3"
  },
  "language_info": {
   "codemirror_mode": {
    "name": "ipython",
    "version": 3
   },
   "file_extension": ".py",
   "mimetype": "text/x-python",
   "name": "python",
   "nbconvert_exporter": "python",
   "pygments_lexer": "ipython3",
   "version": "3.10.8"
  }
 },
 "nbformat": 4,
 "nbformat_minor": 5
}
