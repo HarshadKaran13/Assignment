{
 "cells": [
  {
   "cell_type": "markdown",
   "id": "e9b23715-507c-4423-a2e9-4ed0f71ae82a",
   "metadata": {},
   "source": [
    "Q.01  Write a programm to accept percentage from user & display the grade according to following criteria\n",
    "Marks        grade\n",
    ">90            A\n",
    ">80 & <=90     B\n",
    ">=60 & <=80    C\n",
    "beloow 60      D"
   ]
  },
  {
   "cell_type": "code",
   "execution_count": 12,
   "id": "117bf316-2354-44c5-a4f7-fb0003c8e54d",
   "metadata": {},
   "outputs": [
    {
     "name": "stdin",
     "output_type": "stream",
     "text": [
      "Enter your marks 80\n"
     ]
    },
    {
     "name": "stdout",
     "output_type": "stream",
     "text": [
      "Your grade is C\n"
     ]
    }
   ],
   "source": [
    "marks=int(input(\"Enter your marks\"))\n",
    "if marks>90:\n",
    "    print(\"Your grade is A\")\n",
    "elif marks>80 and marks<=90:\n",
    "    print(\"Your grade is B\")\n",
    "elif marks>=60 and marks<=80:\n",
    "    print(\"Your grade is C\")\n",
    "elif marks<60:\n",
    "    print(\"Your grade is D\")"
   ]
  },
  {
   "cell_type": "markdown",
   "id": "eb4a8e86-46ee-43cb-9d3f-96bd3a8c4b03",
   "metadata": {},
   "source": [
    "Q.02 Write a program to accept the cost price of a bike and display the road tax to be paid according to the following criteria\n",
    "Tax       Cost price\n",
    "15%      >100000\n",
    "10%     >50000 & <=100000\n",
    "5%       <=50000"
   ]
  },
  {
   "cell_type": "code",
   "execution_count": 14,
   "id": "1f18f645-c22c-4884-b526-bc8961a447c2",
   "metadata": {},
   "outputs": [
    {
     "name": "stdin",
     "output_type": "stream",
     "text": [
      "Cost price of a bike is: 230000\n"
     ]
    },
    {
     "name": "stdout",
     "output_type": "stream",
     "text": [
      "You have to pay 15% road tax\n"
     ]
    }
   ],
   "source": [
    "cost_price=int(input(\"Cost price of a bike is:\"))\n",
    "if cost_price>100000:\n",
    "    print(\"You have to pay 15% road tax\")\n",
    "elif cost_price>50000 & cost_price<=100000:\n",
    "    print(\"You have to pay 10% road tax\")\n",
    "else:\n",
    "    print(\"You have to pay 5% road tax\")"
   ]
  },
  {
   "cell_type": "markdown",
   "id": "1b3cc5bc-8d79-46cb-b2fd-9cc4e7c2391a",
   "metadata": {},
   "source": [
    "Q.03  Accept any city from the user and display monumnents of that city \n",
    "City                Monument\n",
    "Delhi               Red fort\n",
    "Agra                Taj mahal\n",
    "Jaipur              Jal mahal"
   ]
  },
  {
   "cell_type": "code",
   "execution_count": 17,
   "id": "9304fe49-ad24-41d5-b77c-3bbfe89dbdeb",
   "metadata": {},
   "outputs": [
    {
     "name": "stdin",
     "output_type": "stream",
     "text": [
      "Enter city pune\n"
     ]
    },
    {
     "name": "stdout",
     "output_type": "stream",
     "text": [
      "Enter a valid city\n"
     ]
    }
   ],
   "source": [
    "city=input(\"Enter city\")\n",
    "if city.upper()==\"DELHI\":\n",
    "    print(\"Red fort\")\n",
    "elif city.upper()==\"AGRA\":\n",
    "    print(\"Taj mahal\")\n",
    "elif city.upper()==\"JAIPUR\":\n",
    "    print(\"Jal mahal\")\n",
    "else:\n",
    "    print(\"Enter a valid city\")"
   ]
  },
  {
   "cell_type": "markdown",
   "id": "8ec4b707-37ec-4e96-bfa2-59bcba4983ce",
   "metadata": {},
   "source": [
    "Q.04 Check How many times a given number can be divided by 3 before it is less than or equal to 10?"
   ]
  },
  {
   "cell_type": "code",
   "execution_count": 21,
   "id": "c66897c4-6d46-49c9-b25b-2f6a521ba032",
   "metadata": {},
   "outputs": [
    {
     "name": "stdin",
     "output_type": "stream",
     "text": [
      "Enter a number 180\n"
     ]
    },
    {
     "name": "stdout",
     "output_type": "stream",
     "text": [
      "1 times a given number can be divided\n",
      "2 times a given number can be divided\n",
      "3 times a given number can be divided\n"
     ]
    }
   ],
   "source": [
    "number=int(input(\"Enter a number\"))\n",
    "count=0\n",
    "while number>10:\n",
    "    number=number/3\n",
    "    count=count+1\n",
    "    print(count,\"times a given number can be divided\")"
   ]
  },
  {
   "cell_type": "markdown",
   "id": "972ff123-b6bd-4b5b-ade6-acc10039a038",
   "metadata": {},
   "source": [
    "Q. 05why and when to use while loop in python give a detailed description with example\n",
    "Ans:-\n",
    "   A while loop will run a piece of code while a condition is True. It will keep executing the desired set of code statements until that condition is no longer True. A while loop will always first check the condition before running. If the condition evaluates to True then the loop will run the code within the loop's body."
   ]
  },
  {
   "cell_type": "code",
   "execution_count": 22,
   "id": "2c90d172-08c6-4e27-82e9-c66b3d206b62",
   "metadata": {},
   "outputs": [
    {
     "name": "stdin",
     "output_type": "stream",
     "text": [
      "Enter a number 56\n"
     ]
    },
    {
     "name": "stdout",
     "output_type": "stream",
     "text": [
      "1 times a given number can be divided\n",
      "2 times a given number can be divided\n"
     ]
    }
   ],
   "source": [
    "#e.g\n",
    "number=int(input(\"Enter a number\"))\n",
    "count=0\n",
    "while number>10:\n",
    "    number=number/3\n",
    "    count=count+1\n",
    "    print(count,\"times a given number can be divided\")"
   ]
  },
  {
   "cell_type": "markdown",
   "id": "7fc32729-7eec-4041-8314-38e801f85ffb",
   "metadata": {},
   "source": [
    "i)The while loop is the core of this code, and it continues to execute as long as the condition number > 10 is true.\n",
    "ii)number (initially 180) is divided by 3. This is equivalent to performing floating-point division.\n",
    "iii)The result of the division is assigned back to the number variable, which updates its value.\n",
    "iv)The count variable is increased by 1 to keep track of the number of divisions.\n",
    "v)The condition number > 10 is re-evaluated. If number is still greater than 10, the loop continues. If not, the loop terminates.\n",
    "vi)The loop keeps repeating this process until the condition becomes false (i.e., number is no longer greater than 10).\n",
    "vii)Finally, after the while loop finishes, the code prints the total number of iterations required to bring the 'number' to a value less than or equal to 10"
   ]
  },
  {
   "cell_type": "markdown",
   "id": "946cc93e-844a-48c5-a447-1ace2d6f66b4",
   "metadata": {},
   "source": [
    "Q.06 Use nested while loop to print 3 different pattern"
   ]
  },
  {
   "cell_type": "code",
   "execution_count": 27,
   "id": "4487e976-e478-4e4a-afa1-c59bcb0864e3",
   "metadata": {},
   "outputs": [
    {
     "name": "stdout",
     "output_type": "stream",
     "text": [
      "1 \n",
      "1 2 \n",
      "1 2 3 \n"
     ]
    }
   ],
   "source": [
    "i=1\n",
    "while i<=3:\n",
    "    j=1\n",
    "    while j<=i:\n",
    "        print(j,end=\" \")\n",
    "        j=j+1\n",
    "    print(\"\")\n",
    "    i=i+1"
   ]
  },
  {
   "cell_type": "markdown",
   "id": "97a64a3d-80fa-41df-869d-213dcac508b8",
   "metadata": {},
   "source": [
    "Q.07 Reverse a while loop to display number from 10 to 1"
   ]
  },
  {
   "cell_type": "code",
   "execution_count": 34,
   "id": "af626749-1bb2-4d4b-8c95-679002182c2e",
   "metadata": {},
   "outputs": [
    {
     "name": "stdout",
     "output_type": "stream",
     "text": [
      "10\n",
      "9\n",
      "8\n",
      "7\n",
      "6\n",
      "5\n",
      "4\n",
      "3\n",
      "2\n",
      "1\n"
     ]
    }
   ],
   "source": [
    "i=10\n",
    "while(i>=1):\n",
    "   print(i)\n",
    "   i=i-1"
   ]
  }
 ],
 "metadata": {
  "kernelspec": {
   "display_name": "Python 3 (ipykernel)",
   "language": "python",
   "name": "python3"
  },
  "language_info": {
   "codemirror_mode": {
    "name": "ipython",
    "version": 3
   },
   "file_extension": ".py",
   "mimetype": "text/x-python",
   "name": "python",
   "nbconvert_exporter": "python",
   "pygments_lexer": "ipython3",
   "version": "3.10.8"
  }
 },
 "nbformat": 4,
 "nbformat_minor": 5
}
