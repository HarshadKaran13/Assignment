{
 "cells": [
  {
   "cell_type": "code",
   "execution_count": 18,
   "id": "b16698ca-bdd0-43c9-ac7d-8adf77b7916a",
   "metadata": {},
   "outputs": [
    {
     "name": "stdout",
     "output_type": "stream",
     "text": [
      "Product of all numbers in the flattened list: 0\n"
     ]
    }
   ],
   "source": [
    "\"\"\" Q1. Create a function which will take a list as an argument and return the product of all the numbers\n",
    "after creating a flat list.\n",
    "Use the below-given list as an argument for your function.\n",
    "list1 = [1,2,3,4, [44,55,66, True], False, (34,56,78,89,34), {1,2,3,3,2,1}, {1:34, \"key2\": [55, 67, 78, 89], 4: (45,\n",
    "22, 61, 34)}, [56, 'data science'], 'Machine Learning']\n",
    "Note: you must extract numeric keys and values of the dictionary also.\"\"\"\n",
    "##ANS:-\n",
    "\n",
    "def flatten_and_product(lst):\n",
    "    def flatten_list(nested_list):\n",
    "        for item in nested_list:\n",
    "            if isinstance(item, (list, tuple)):\n",
    "                yield from flatten_list(item)\n",
    "            else:\n",
    "                yield item\n",
    "    flattened_list = list(flatten_list(lst))\n",
    "    product = 1\n",
    "    for item in flattened_list:\n",
    "        if isinstance(item, (int, float)):\n",
    "            product *= item\n",
    "\n",
    "    return product\n",
    "\n",
    "list1 = [1, 2, 3, 4, [44, 55, 66, True], False, (34, 56, 78, 89, 34), {1, 2, 3, 3, 2, 1}, {1: 34, \"key2\": [55, 67, 78, 89], 4: (45, 22, 61, 34)}, [56, 'data science'], 'Machine Learning']\n",
    "\n",
    "result = flatten_and_product(list1)\n",
    "print(\"Product of all numbers in the flattened list:\", result)"
   ]
  },
  {
   "cell_type": "markdown",
   "id": "7f7ef9e4-5363-40fd-8669-5154f11f6aab",
   "metadata": {},
   "source": [
    "Q2. Write a python program for encrypting a message sent to you by your friend. The logic of encryption\n",
    "should be such that, for a the output should be z. For b, the output should be y. For c, the output should\n",
    "be x respectively. Also, the whitespace should be replaced with a dollar sign. Keep the punctuation\n",
    "marks unchanged.\n",
    "Input Sentence: I want to become a Data Scientist.\n",
    "Encrypt the above input sentence using the program you just created.\n",
    "\n",
    "Note: Convert the given input sentence into lowercase before encrypting. The final output should be\n",
    "lowercase."
   ]
  },
  {
   "cell_type": "code",
   "execution_count": 20,
   "id": "da11103d-53bb-4653-96ce-d5e8db4284b2",
   "metadata": {},
   "outputs": [
    {
     "name": "stdout",
     "output_type": "stream",
     "text": [
      "Encrypted Sentence: i$wznt$to$yexome$z$dztz$sxientist.\n"
     ]
    }
   ],
   "source": [
    "def encrypt_message(input_sentence):\n",
    "    # Define a mapping of characters to be replaced\n",
    "    char_mapping = {\n",
    "        'a': 'z', 'b': 'y', 'c': 'x',\n",
    "        ' ': '$'\n",
    "    }\n",
    "\n",
    "    # Convert the input sentence to lowercase\n",
    "    input_sentence = input_sentence.lower()\n",
    "\n",
    "    # Initialize an empty string to store the encrypted message\n",
    "    encrypted_message = ''\n",
    "\n",
    "    # Iterate through the input sentence and replace characters\n",
    "    for char in input_sentence:\n",
    "        if char in char_mapping:\n",
    "            encrypted_message += char_mapping[char]\n",
    "        else:\n",
    "            encrypted_message += char\n",
    "\n",
    "    return encrypted_message\n",
    "\n",
    "# Input Sentence\n",
    "input_sentence = \"I want to become a Data Scientist.\"\n",
    "\n",
    "# Encrypt the input sentence\n",
    "encrypted_sentence = encrypt_message(input_sentence)\n",
    "\n",
    "# Print the encrypted message\n",
    "print(\"Encrypted Sentence:\", encrypted_sentence)"
   ]
  }
 ],
 "metadata": {
  "kernelspec": {
   "display_name": "Python 3 (ipykernel)",
   "language": "python",
   "name": "python3"
  },
  "language_info": {
   "codemirror_mode": {
    "name": "ipython",
    "version": 3
   },
   "file_extension": ".py",
   "mimetype": "text/x-python",
   "name": "python",
   "nbconvert_exporter": "python",
   "pygments_lexer": "ipython3",
   "version": "3.10.8"
  }
 },
 "nbformat": 4,
 "nbformat_minor": 5
}
