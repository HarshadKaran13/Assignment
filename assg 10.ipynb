{
 "cells": [
  {
   "cell_type": "markdown",
   "id": "93dab5ad-2d07-4aae-bab7-69d1d965d3f0",
   "metadata": {},
   "source": [
    "Q1. You are writing code for a company. The requirement of the company is that you create a python\n",
    "function that will check whether the password entered by the user is correct or not. The function should\n",
    "take the password as input and return the string “Valid Password” if the entered password follows the\n",
    "below-given password guidelines else it should return “Invalid Password”.\n",
    "Note: 1. The Password should contain at least two uppercase letters and at least two lowercase letters.\n",
    "2. The Password should contain at least a number and three special characters.\n",
    "3. The length of the password should be 10 characters long."
   ]
  },
  {
   "cell_type": "code",
   "execution_count": 2,
   "id": "c779012c-37ee-48a9-bce5-f05bb7584aeb",
   "metadata": {},
   "outputs": [],
   "source": [
    "import re\n",
    "\n",
    "def validate_password(password):\n",
    "    if len(password) != 10:\n",
    "        return \"Invalid Password\"\n",
    "\n",
    "    uppercase_count = len(re.findall(r'[A-Z]', password))\n",
    "    if uppercase_count < 2:\n",
    "        return \"Invalid Password\"\n",
    "\n",
    "    lowercase_count = len(re.findall(r'[a-z]', password))\n",
    "    if lowercase_count < 2:\n",
    "        return \"Invalid Password\"\n",
    "\n",
    "    number_count = len(re.findall(r'\\d', password))\n",
    "    if number_count == 0:\n",
    "        return \"Invalid Password\"\n",
    "\n",
    "    special_char_count = len(re.findall(r'[\\W]', password))\n",
    "    if special_char_count < 3:\n",
    "        return \"Invalid Password\"\n",
    "\n",
    "    return \"Valid Password\""
   ]
  },
  {
   "cell_type": "code",
   "execution_count": 9,
   "id": "0bc7c172-f1e1-43c0-a72d-c5a53cc1e0d4",
   "metadata": {},
   "outputs": [],
   "source": [
    "password1 = \"Abc12\"\n",
    "\n"
   ]
  },
  {
   "cell_type": "code",
   "execution_count": 5,
   "id": "251d2abf-5ece-4526-a81c-c5e8ee6322b8",
   "metadata": {},
   "outputs": [],
   "source": [
    "result1 = validate_password(password1)\n"
   ]
  },
  {
   "cell_type": "code",
   "execution_count": 7,
   "id": "bddb8497-0000-478c-8097-bfe176659023",
   "metadata": {},
   "outputs": [
    {
     "name": "stdout",
     "output_type": "stream",
     "text": [
      "Invalid Password\n"
     ]
    }
   ],
   "source": [
    "print(result1) "
   ]
  },
  {
   "cell_type": "markdown",
   "id": "1789c802-d2c1-4ea3-bb08-2a06ef12c93f",
   "metadata": {},
   "source": [
    "Q2. Solve the below-given questions using at least one of the following:\n",
    "1. Lambda functioJ\n",
    "2. Filter functioJ\n",
    "3. Zap functioJ\n",
    "4. List ComprehensioI\n",
    "1)Check if the string starts with a particular letterY\n",
    "2) Check if the string is numericY\n",
    "3) Sort a list of tuples having fruit names and their quantity. [(\"mango\",99),(\"orange\",80), (\"grapes\", 1000)-\n",
    "4) Find the squares of numbers from 1 to 10Y\n",
    "5) Find the cube root of numbers from 1 to 10Y\n",
    "6) Check if a given number is evenY\n",
    "7) Filter odd numbers from the given list.\n",
    "[1,2,3,4,5,6,7,8,9,10-\n",
    "8) Sort a list of integers into positive and negative integers lists.\n",
    "[1,2,3,4,5,6,-1,-2,-3,-4,-5,0]"
   ]
  },
  {
   "cell_type": "markdown",
   "id": "a534cf47-1bdc-4c1f-9564-bb7a2ea6bdb1",
   "metadata": {},
   "source": [
    "ANS-\n",
    "1)Check if the string starts with a particular letter:"
   ]
  },
  {
   "cell_type": "code",
   "execution_count": 11,
   "id": "2d82191d-8af7-4611-ada3-781b922d0f61",
   "metadata": {},
   "outputs": [
    {
     "name": "stdout",
     "output_type": "stream",
     "text": [
      "True\n"
     ]
    }
   ],
   "source": [
    "starts_with_letter = lambda string, letter: string.startswith(letter)\n",
    "result = starts_with_letter(\"Hello\", \"H\")\n",
    "print(result) "
   ]
  },
  {
   "cell_type": "markdown",
   "id": "6db2a58f-cadf-42a9-ab76-5b0b2d53e9c1",
   "metadata": {},
   "source": [
    "2)Check if the string is numeric"
   ]
  },
  {
   "cell_type": "code",
   "execution_count": 12,
   "id": "5212f27c-8bcd-43e6-8871-653906f51843",
   "metadata": {},
   "outputs": [
    {
     "name": "stdout",
     "output_type": "stream",
     "text": [
      "True\n"
     ]
    }
   ],
   "source": [
    "is_numeric = lambda string: string.isnumeric()\n",
    "result = is_numeric(\"123\")\n",
    "print(result)"
   ]
  },
  {
   "cell_type": "markdown",
   "id": "3eb4fc9e-058e-4eca-bf18-73c7fbc5b251",
   "metadata": {},
   "source": [
    "3)Sort a list of tuples having fruit names and their quantity"
   ]
  },
  {
   "cell_type": "code",
   "execution_count": 13,
   "id": "bf7c099c-f3a7-400f-b041-79f7d9a40028",
   "metadata": {},
   "outputs": [
    {
     "name": "stdout",
     "output_type": "stream",
     "text": [
      "[('orange', 80), ('mango', 99), ('grapes', 1000)]\n"
     ]
    }
   ],
   "source": [
    "fruit_quantity = [(\"mango\", 99), (\"orange\", 80), (\"grapes\", 1000)]\n",
    "sorted_fruit_quantity = sorted(fruit_quantity, key=lambda x: x[1])\n",
    "print(sorted_fruit_quantity)"
   ]
  },
  {
   "cell_type": "markdown",
   "id": "01e8636f-7308-4a93-955f-044ca08bef89",
   "metadata": {},
   "source": [
    "4)Find the squares of numbers from 1 to 10"
   ]
  },
  {
   "cell_type": "code",
   "execution_count": 14,
   "id": "82aa8388-ffc5-4c35-9a24-5165abdbaed5",
   "metadata": {},
   "outputs": [
    {
     "name": "stdout",
     "output_type": "stream",
     "text": [
      "[1, 4, 9, 16, 25, 36, 49, 64, 81, 100]\n"
     ]
    }
   ],
   "source": [
    "squares = [x**2 for x in range(1, 11)]\n",
    "print(squares)"
   ]
  },
  {
   "cell_type": "markdown",
   "id": "528f71c0-f997-4ccf-9a90-9c785c2b5f75",
   "metadata": {},
   "source": [
    "5)Find the cube root of numbers from 1 to 10"
   ]
  },
  {
   "cell_type": "code",
   "execution_count": 15,
   "id": "d2349e29-6c3a-493f-a036-e504391b1238",
   "metadata": {},
   "outputs": [
    {
     "name": "stdout",
     "output_type": "stream",
     "text": [
      "[1.0, 1.2599210498948732, 1.4422495703074083, 1.5874010519681994, 1.7099759466766968, 1.8171205928321397, 1.912931182772389, 2.0, 2.080083823051904, 2.154434690031884]\n"
     ]
    }
   ],
   "source": [
    "cube_roots = [x**(1/3) for x in range(1, 11)]\n",
    "print(cube_roots)"
   ]
  },
  {
   "cell_type": "markdown",
   "id": "e6963d18-de42-45b4-bf8d-2be419330b75",
   "metadata": {},
   "source": [
    "6)Check if a given number is even"
   ]
  },
  {
   "cell_type": "code",
   "execution_count": 16,
   "id": "9da889d6-50cb-40fb-8f3f-48b6eb5eeab8",
   "metadata": {},
   "outputs": [
    {
     "name": "stdout",
     "output_type": "stream",
     "text": [
      "True\n"
     ]
    }
   ],
   "source": [
    "is_even = lambda num: num % 2 == 0\n",
    "result = is_even(6)\n",
    "print(result)"
   ]
  },
  {
   "cell_type": "markdown",
   "id": "50915348-b562-4a71-b50f-975e106ac43d",
   "metadata": {},
   "source": [
    "7)Filter odd numbers from the given list"
   ]
  },
  {
   "cell_type": "code",
   "execution_count": 17,
   "id": "6364eb65-0fdf-485e-9381-c875f66d1fcf",
   "metadata": {},
   "outputs": [
    {
     "name": "stdout",
     "output_type": "stream",
     "text": [
      "[1, 3, 5, 7, 9]\n"
     ]
    }
   ],
   "source": [
    "numbers = [1, 2, 3, 4, 5, 6, 7, 8, 9, 10]\n",
    "odd_numbers = list(filter(lambda x: x % 2 != 0, numbers))\n",
    "print(odd_numbers)"
   ]
  },
  {
   "cell_type": "markdown",
   "id": "149fb17d-41fc-452c-a1c1-da91b9452f52",
   "metadata": {},
   "source": [
    "8)Sort a list of integers into positive and negative integers lists"
   ]
  },
  {
   "cell_type": "code",
   "execution_count": 18,
   "id": "938814e8-053d-4a71-b958-1df77961decd",
   "metadata": {},
   "outputs": [
    {
     "name": "stdout",
     "output_type": "stream",
     "text": [
      "Positive Numbers: [1, 2, 3, 4, 5, 6]\n",
      "Negative Numbers: [-1, -2, -3, -4, -5]\n"
     ]
    }
   ],
   "source": [
    "numbers = [1, 2, 3, 4, 5, 6, -1, -2, -3, -4, -5, 0]\n",
    "positive_numbers = [x for x in numbers if x > 0]\n",
    "negative_numbers = [x for x in numbers if x < 0]\n",
    "print(\"Positive Numbers:\", positive_numbers)\n",
    "print(\"Negative Numbers:\", negative_numbers)"
   ]
  }
 ],
 "metadata": {
  "kernelspec": {
   "display_name": "Python 3 (ipykernel)",
   "language": "python",
   "name": "python3"
  },
  "language_info": {
   "codemirror_mode": {
    "name": "ipython",
    "version": 3
   },
   "file_extension": ".py",
   "mimetype": "text/x-python",
   "name": "python",
   "nbconvert_exporter": "python",
   "pygments_lexer": "ipython3",
   "version": "3.10.8"
  }
 },
 "nbformat": 4,
 "nbformat_minor": 5
}
